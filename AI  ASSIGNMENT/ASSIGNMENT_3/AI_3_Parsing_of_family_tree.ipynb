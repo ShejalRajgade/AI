{
  "nbformat": 4,
  "nbformat_minor": 0,
  "metadata": {
    "colab": {
      "provenance": []
    },
    "kernelspec": {
      "name": "python3",
      "display_name": "Python 3"
    },
    "language_info": {
      "name": "python"
    }
  },
  "cells": [
    {
      "cell_type": "code",
      "source": [
        "class FamilyTreeKB:\n",
        "    def __init__(self):\n",
        "        self.facts = set()  # Known relationships (facts)\n",
        "        self.rules = []     # Inference rules\n",
        "\n",
        "    def add_fact(self, fact):\n",
        "        \"\"\"Add a new fact to the knowledge base.\"\"\"\n",
        "        self.facts.add(fact)\n",
        "\n",
        "    def add_rule(self, conditions, conclusion):\n",
        "        \"\"\"Add a new inference rule.\"\"\"\n",
        "        self.rules.append((conditions, conclusion))\n",
        "\n",
        "    def forward_chain(self):\n",
        "        \"\"\"Apply forward chaining to infer new relationships.\"\"\"\n",
        "        new_facts = set()\n",
        "        while True:\n",
        "            new_fact_added = False\n",
        "            for conditions, conclusion in self.rules:\n",
        "                if all(condition in self.facts for condition in conditions) and conclusion not in self.facts:\n",
        "                    # All conditions met, derive the conclusion\n",
        "                    self.facts.add(conclusion)\n",
        "                    new_facts.add(conclusion)\n",
        "                    new_fact_added = True\n",
        "                    print(f\"Derived fact: {conclusion}\")\n",
        "\n",
        "            if not new_fact_added:\n",
        "                break\n",
        "\n",
        "        return new_facts\n"
      ],
      "metadata": {
        "id": "lIjRzevqtBMv"
      },
      "execution_count": null,
      "outputs": []
    },
    {
      "cell_type": "code",
      "source": [
        "# Create the family tree knowledge base\n",
        "kb = FamilyTreeKB()\n",
        "\n",
        "# Add basic family relationships (facts)\n",
        "kb.add_fact((\"parent\", \"John\", \"Mary\"))  # John is a parent of Mary\n",
        "kb.add_fact((\"parent\", \"John\", \"Tom\"))   # John is a parent of Tom\n",
        "kb.add_fact((\"parent\", \"Sarah\", \"Mary\")) # Sarah is a parent of Mary\n",
        "kb.add_fact((\"parent\", \"Sarah\", \"Tom\"))  # Sarah is a parent of Tom\n",
        "kb.add_fact((\"parent\", \"Mary\", \"Sam\"))   # Mary is a parent of Sam\n",
        "kb.add_fact((\"parent\", \"Tom\", \"Lisa\"))   # Tom is a parent of Lisa\n"
      ],
      "metadata": {
        "id": "ENwoifiRtjAD"
      },
      "execution_count": null,
      "outputs": []
    },
    {
      "cell_type": "code",
      "source": [
        "# Add rules to infer other relationships\n",
        "kb.add_rule([(\"parent\", \"X\", \"Y\")], (\"child\", \"Y\", \"X\"))   # If X is a parent of Y, then Y is a child of X\n",
        "kb.add_rule([(\"parent\", \"X\", \"Y\"), (\"parent\", \"X\", \"Z\"), (\"Y\", \"!=\", \"Z\")], (\"sibling\", \"Y\", \"Z\"))  # Siblings share parents\n",
        "kb.add_rule([(\"parent\", \"X\", \"Y\"), (\"parent\", \"Y\", \"Z\")], (\"grandparent\", \"X\", \"Z\"))  # Grandparent rule\n"
      ],
      "metadata": {
        "id": "-O8_obaptlcm"
      },
      "execution_count": null,
      "outputs": []
    },
    {
      "cell_type": "code",
      "source": [
        "# Apply forward chaining to infer relationships\n",
        "print(\"Initial Facts:\", kb.facts)\n",
        "kb.forward_chain()\n",
        "print(\"Final Facts:\", kb.facts)\n"
      ],
      "metadata": {
        "colab": {
          "base_uri": "https://localhost:8080/"
        },
        "id": "nfK_8iOTtnRP",
        "outputId": "f93753d2-63dc-42f4-91f1-3623fba3a432"
      },
      "execution_count": null,
      "outputs": [
        {
          "output_type": "stream",
          "name": "stdout",
          "text": [
            "Initial Facts: {('parent', 'John', 'Mary'), ('parent', 'Tom', 'Lisa'), ('parent', 'Sarah', 'Tom'), ('parent', 'John', 'Tom'), ('parent', 'Sarah', 'Mary'), ('parent', 'Mary', 'Sam')}\n",
            "Final Facts: {('parent', 'John', 'Mary'), ('parent', 'Tom', 'Lisa'), ('parent', 'Sarah', 'Tom'), ('parent', 'John', 'Tom'), ('parent', 'Sarah', 'Mary'), ('parent', 'Mary', 'Sam')}\n"
          ]
        }
      ]
    }
  ]
}