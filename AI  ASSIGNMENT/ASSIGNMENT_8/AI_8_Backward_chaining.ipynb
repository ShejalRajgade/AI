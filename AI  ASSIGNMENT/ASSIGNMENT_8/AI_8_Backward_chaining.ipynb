{
  "nbformat": 4,
  "nbformat_minor": 0,
  "metadata": {
    "colab": {
      "provenance": []
    },
    "kernelspec": {
      "name": "python3",
      "display_name": "Python 3"
    },
    "language_info": {
      "name": "python"
    }
  },
  "cells": [
    {
      "cell_type": "code",
      "source": [
        "facts = [\"A\", \"B\"]\n",
        "\n",
        "\n",
        "rules = [\n",
        "    ([\"A\", \"B\"], \"C\"),  # If A and B are true, then infer C\n",
        "    ([\"C\"], \"D\"),       # If C is true, then infer D\n",
        "    ([\"D\"], \"E\")        # If D is true, then infer E\n",
        "]\n",
        "\n",
        "\n",
        "def backward_chaining(goal, facts, rules):\n",
        "\n",
        "    if goal in facts:\n",
        "        print(f\"Goal {goal} is already a fact.\")\n",
        "        return True\n",
        "\n",
        "\n",
        "    for condition, conclusion in rules:\n",
        "        if conclusion == goal:\n",
        "            print(f\"Trying to infer {goal} using the rule: {condition} -> {goal}\")\n",
        "\n",
        "            # Recursively check if all conditions for the rule are met\n",
        "            all_conditions_met = True\n",
        "            for cond in condition:\n",
        "                if not backward_chaining(cond, facts, rules):\n",
        "                    all_conditions_met = False\n",
        "                    break\n",
        "\n",
        "            if all_conditions_met:\n",
        "                print(f\"Goal {goal} inferred successfully!\")\n",
        "                return True\n",
        "\n",
        "\n",
        "    print(f\"Goal {goal} cannot be inferred.\")\n",
        "    return False\n",
        "\n",
        "# Example: Trying to infer \"E\"\n",
        "goal = \"E\"\n",
        "print(f\"Trying to prove goal: {goal}\")\n",
        "if backward_chaining(goal, facts, rules):\n",
        "    print(f\"Goal {goal} has been proven.\")\n",
        "else:\n",
        "    print(f\"Goal {goal} cannot be proven.\")"
      ],
      "metadata": {
        "id": "4T87Qx7YuWUr",
        "colab": {
          "base_uri": "https://localhost:8080/"
        },
        "outputId": "3e883011-2303-44ef-a3f1-900ec7430715"
      },
      "execution_count": null,
      "outputs": [
        {
          "output_type": "stream",
          "name": "stdout",
          "text": [
            "Trying to prove goal: E\n",
            "Trying to infer E using the rule: ['D'] -> E\n",
            "Trying to infer D using the rule: ['C'] -> D\n",
            "Trying to infer C using the rule: ['A', 'B'] -> C\n",
            "Goal A is already a fact.\n",
            "Goal B is already a fact.\n",
            "Goal C inferred successfully!\n",
            "Goal D inferred successfully!\n",
            "Goal E inferred successfully!\n",
            "Goal E has been proven.\n"
          ]
        }
      ]
    },
    {
      "cell_type": "code",
      "source": [
        "facts = [\"is_human\", \"can_think\"]\n"
      ],
      "metadata": {
        "id": "XaHKG8FXvN56"
      },
      "execution_count": null,
      "outputs": []
    },
    {
      "cell_type": "code",
      "source": [
        "rules = [\n",
        "    ([\"is_human\", \"can_think\"], \"is_rational\"),    # If human and can think, then is rational\n",
        "    ([\"is_human\"], \"is_mammal\"),                   # If human, then is mammal\n",
        "    ([\"is_mammal\"], \"has_hair\"),                   # If mammal, then has hair\n",
        "    ([\"is_rational\", \"has_hair\"], \"is_unique\")     # If rational and has hair, then is unique\n",
        "]\n"
      ],
      "metadata": {
        "id": "nezAkf1nvOEM"
      },
      "execution_count": null,
      "outputs": []
    },
    {
      "cell_type": "code",
      "source": [
        "def backward_chaining(goal, facts, rules):\n",
        "    \"\"\" Perform backward chaining to prove a goal. \"\"\"\n",
        "\n",
        "    # Base case: If the goal is already a fact\n",
        "    if goal in facts:\n",
        "        print(f\"Goal '{goal}' is already a fact.\")\n",
        "        return True\n",
        "\n",
        "    # Check each rule to see if it can infer the goal\n",
        "    for conditions, conclusion in rules:\n",
        "        if conclusion == goal:\n",
        "            print(f\"Trying to infer '{goal}' using the rule: {conditions} -> {goal}\")\n",
        "\n",
        "            # Recursively check if all conditions for this rule are met\n",
        "            all_conditions_met = True\n",
        "            for condition in conditions:\n",
        "                if not backward_chaining(condition, facts, rules):\n",
        "                    all_conditions_met = False\n",
        "                    break\n",
        "\n",
        "            # If all conditions are met, we infer the goal\n",
        "            if all_conditions_met:\n",
        "                print(f\"Goal '{goal}' inferred successfully!\")\n",
        "                return True\n",
        "\n",
        "    # If no rule can infer the goal\n",
        "    print(f\"Goal '{goal}' cannot be inferred.\")\n",
        "    return False\n",
        "\n",
        "\n",
        "# Example: Trying to infer \"is_unique\"\n",
        "goal = \"is_unique\"\n",
        "print(f\"Trying to prove goal: {goal}\")\n",
        "if backward_chaining(goal, facts, rules):\n",
        "    print(f\"Goal '{goal}' has been proven.\")\n",
        "else:\n",
        "    print(f\"Goal '{goal}' cannot be proven.\")\n"
      ],
      "metadata": {
        "colab": {
          "base_uri": "https://localhost:8080/"
        },
        "id": "UwlZFsZWvOPb",
        "outputId": "d2586355-3a5e-4d6f-daf6-d853b714154d"
      },
      "execution_count": null,
      "outputs": [
        {
          "output_type": "stream",
          "name": "stdout",
          "text": [
            "Trying to prove goal: is_unique\n",
            "Trying to infer 'is_unique' using the rule: ['is_rational', 'has_hair'] -> is_unique\n",
            "Trying to infer 'is_rational' using the rule: ['is_human', 'can_think'] -> is_rational\n",
            "Goal 'is_human' is already a fact.\n",
            "Goal 'can_think' is already a fact.\n",
            "Goal 'is_rational' inferred successfully!\n",
            "Trying to infer 'has_hair' using the rule: ['is_mammal'] -> has_hair\n",
            "Trying to infer 'is_mammal' using the rule: ['is_human'] -> is_mammal\n",
            "Goal 'is_human' is already a fact.\n",
            "Goal 'is_mammal' inferred successfully!\n",
            "Goal 'has_hair' inferred successfully!\n",
            "Goal 'is_unique' inferred successfully!\n",
            "Goal 'is_unique' has been proven.\n"
          ]
        }
      ]
    },
    {
      "cell_type": "code",
      "source": [],
      "metadata": {
        "id": "vBrAm0XAvTcY"
      },
      "execution_count": null,
      "outputs": []
    }
  ]
}